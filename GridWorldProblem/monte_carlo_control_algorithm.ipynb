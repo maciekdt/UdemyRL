{
 "cells": [
  {
   "cell_type": "markdown",
   "metadata": {},
   "source": [
    "### Monte Carlo Control Algorithm for GridWorld Problem"
   ]
  },
  {
   "cell_type": "code",
   "execution_count": 314,
   "metadata": {},
   "outputs": [],
   "source": [
    "from enum import Enum\n",
    "import random\n",
    "import matplotlib.pyplot as plt\n",
    "import numpy as np"
   ]
  },
  {
   "cell_type": "markdown",
   "metadata": {},
   "source": [
    "#### Enviroment\n",
    "Model represeting enviroment of Grid World, where agent need to find the best path to reward."
   ]
  },
  {
   "cell_type": "code",
   "execution_count": 340,
   "metadata": {},
   "outputs": [],
   "source": [
    "class Action(Enum):\n",
    "    UP = 'UP'\n",
    "    DOWN = \"DOWN\"\n",
    "    LEFT = \"LEFT\"\n",
    "    RIGHT = \"RIGHT\"\n",
    "    \n",
    "CONST_PENALTY = -0.1   \n",
    "\n",
    "env = {\n",
    "    ((0,0), Action.DOWN) : [(1., ((0,1), CONST_PENALTY))],\n",
    "    ((0,0), Action.RIGHT) : [(1., ((1,0), CONST_PENALTY))],\n",
    "    ((1,0), Action.LEFT) : [(1., ((0,0), CONST_PENALTY))],\n",
    "    ((1,0), Action.RIGHT) : [(1., ((2,0), CONST_PENALTY))],\n",
    "    ((2,0), Action.LEFT) : [(1., ((1,0), CONST_PENALTY))],\n",
    "    ((2,0), Action.RIGHT) : [(.1, ((3,0), 1.)), (.9, ((1,0), CONST_PENALTY))],\n",
    "    ((2,0), Action.DOWN) : [(1., ((2,1), CONST_PENALTY))],\n",
    "    ((0,1), Action.DOWN) : [(1., ((0,2), CONST_PENALTY))],\n",
    "    ((0,1), Action.UP) : [(1., ((0,0), CONST_PENALTY))],\n",
    "    ((2,1), Action.UP) : [(.7, ((2,0), CONST_PENALTY)), (.3, ((3,1), -1.))],\n",
    "    ((2,1), Action.DOWN) : [(1., ((2,1), CONST_PENALTY))],\n",
    "    ((2,1), Action.RIGHT) : [(1., ((3,1), -1.))],\n",
    "    ((0,2), Action.UP) : [(1., ((0,1), CONST_PENALTY))],\n",
    "    ((0,2), Action.RIGHT) : [(1., ((1,2), CONST_PENALTY))],\n",
    "    ((1,2), Action.RIGHT) : [(1., ((2,2), CONST_PENALTY))],\n",
    "    ((1,2), Action.LEFT) : [(1., ((0,2), CONST_PENALTY))],\n",
    "    ((2,2), Action.RIGHT) : [(1., ((3,2), CONST_PENALTY))],\n",
    "    ((2,2), Action.LEFT) : [(1., ((1,2), CONST_PENALTY))],\n",
    "    ((2,2), Action.UP) : [(1., ((2,1), CONST_PENALTY))],\n",
    "    ((3,2), Action.LEFT) : [(1., ((2,2), CONST_PENALTY))],\n",
    "    ((3,2), Action.UP) : [(1., ((3,1), -1.))],\n",
    "}\n",
    "\n",
    "actions = {\n",
    "    (0,0) : {Action.DOWN, Action.RIGHT},\n",
    "    (1,0) : {Action.LEFT, Action.RIGHT},\n",
    "    (2,0) : {Action.LEFT, Action.RIGHT, Action.DOWN},\n",
    "    (3,0) : {},\n",
    "    (0,1) : {Action.UP, Action.DOWN},\n",
    "    (2,1) : {Action.UP, Action.DOWN, Action.RIGHT},\n",
    "    (3,1) : {},\n",
    "    (0,2) : {Action.UP, Action.RIGHT},\n",
    "    (1,2) : {Action.RIGHT, Action.LEFT},\n",
    "    (2,2) : {Action.RIGHT, Action.LEFT, Action.UP},\n",
    "    (3,2) : {Action.LEFT, Action.UP}\n",
    "}\n",
    "\n",
    "def env_return(state, action):\n",
    "    probabilities, return_value = zip(*env[(state, action)])\n",
    "    return random.choices(return_value, weights=probabilities, k=1)[0]  "
   ]
  },
  {
   "cell_type": "markdown",
   "metadata": {},
   "source": [
    "#### Policy\n",
    "Initiated as random allowed action for each state."
   ]
  },
  {
   "cell_type": "code",
   "execution_count": 316,
   "metadata": {},
   "outputs": [],
   "source": [
    "def get_random_policy():    \n",
    "    policy = {}\n",
    "    for state, allowed_actions in actions.items():\n",
    "        if allowed_actions:\n",
    "            policy[state] = random.choice(list(allowed_actions))\n",
    "    return policy"
   ]
  },
  {
   "cell_type": "code",
   "execution_count": 317,
   "metadata": {},
   "outputs": [],
   "source": [
    "def display_policy_on_board(policy):\n",
    "    rows, cols = 3, 4\n",
    "    grid = [[\" \" for _ in range(cols)] for _ in range(rows)]\n",
    "    \n",
    "    action_symbols = {\n",
    "        Action.UP: \"↑\",\n",
    "        Action.DOWN: \"↓\",\n",
    "        Action.LEFT: \"←\",\n",
    "        Action.RIGHT: \"→\"\n",
    "    }\n",
    "\n",
    "    for (x, y), action in policy.items():\n",
    "        grid[y][x] = action_symbols[action]\n",
    "\n",
    "    for row in grid:\n",
    "        print(\" | \".join(row))"
   ]
  },
  {
   "cell_type": "markdown",
   "metadata": {},
   "source": [
    "#### Action value function\n",
    "Represented by map. Includes current action value mean and current number of examples (examples number for updating mean)"
   ]
  },
  {
   "cell_type": "code",
   "execution_count": 318,
   "metadata": {},
   "outputs": [],
   "source": [
    "def get_Q():    \n",
    "    Q = {}\n",
    "    for (state, action) in env:\n",
    "        Q[(state, action)] = (0, 0)\n",
    "    return Q\n",
    "    "
   ]
  },
  {
   "cell_type": "markdown",
   "metadata": {},
   "source": [
    "Plays episode base on given init state and action than follows the policy. Return history of states-actions and rewards for them."
   ]
  },
  {
   "cell_type": "code",
   "execution_count": 319,
   "metadata": {},
   "outputs": [],
   "source": [
    "def play_episode(policy, init_state, init_action, epsilon):\n",
    "    states_actions = [(init_state, init_action)]\n",
    "    next_state, reward = env_return(state=init_state, action=init_action)\n",
    "    rewards = [reward]\n",
    "    current_state = next_state\n",
    "    while len(actions[current_state]) > 0:\n",
    "        if(random.random() > epsilon):\n",
    "            action = policy[current_state]\n",
    "        else:\n",
    "            action = random.choice(list(actions[current_state]))\n",
    "        next_state, reward = env_return(state=current_state, action=action)\n",
    "        states_actions.append((current_state, action))\n",
    "        rewards.append(reward)\n",
    "        current_state = next_state\n",
    "    return (states_actions, rewards) "
   ]
  },
  {
   "cell_type": "markdown",
   "metadata": {},
   "source": [
    "Update policy base on current max mean from Action Value Function (Q) (for each state)"
   ]
  },
  {
   "cell_type": "code",
   "execution_count": 320,
   "metadata": {},
   "outputs": [],
   "source": [
    "def update_policy(policy, Q):\n",
    "    for state in policy:\n",
    "        max_mean = float('-inf')\n",
    "        max_action = None\n",
    "        for action in actions[state]:\n",
    "            mean_Q, _ = Q[(state, action)]\n",
    "            if mean_Q > max_mean:\n",
    "                max_mean = mean_Q\n",
    "                max_action = action\n",
    "        if max_action != None:\n",
    "            policy[state] = max_action"
   ]
  },
  {
   "cell_type": "markdown",
   "metadata": {},
   "source": [
    "Plays a few episodes and updates Action Value Function mean base on result. Then updating policy."
   ]
  },
  {
   "cell_type": "code",
   "execution_count": 360,
   "metadata": {},
   "outputs": [],
   "source": [
    "def train_agent(policy, Q, gamma=.1, epsilon=.1):\n",
    "    rewards_history = []\n",
    "    for _ in range(100):\n",
    "        init_state, init_action = random.choice(list(env))\n",
    "        states_actions, rewards = play_episode(\n",
    "            policy=policy,\n",
    "            init_state=init_state,\n",
    "            init_action=init_action,\n",
    "            epsilon=epsilon\n",
    "        )\n",
    "        G = 0\n",
    "        for t in reversed(range(len(states_actions))):\n",
    "            G = rewards[t] + gamma*G\n",
    "            mean_Q, N_Q = Q[states_actions[t]]\n",
    "            Q[states_actions[t]] = ((N_Q * mean_Q + G)/(N_Q + 1), N_Q + 1)\n",
    "        update_policy(policy=policy, Q=Q)\n",
    "        rewards_history.append(sum(rewards))\n",
    "    return policy, Q, rewards_history"
   ]
  },
  {
   "cell_type": "code",
   "execution_count": 362,
   "metadata": {},
   "outputs": [
    {
     "name": "stdout",
     "output_type": "stream",
     "text": [
      "→ | → | → |  \n",
      "↑ |   | ↓ |  \n",
      "↑ | ← | ↑ | ←\n"
     ]
    },
    {
     "data": {
      "image/png": "[encoded data removed]",
      "text/plain": [
       "<Figure size 432x288 with 1 Axes>"
      ]
     },
     "metadata": {
      "needs_background": "light"
     },
     "output_type": "display_data"
    }
   ],
   "source": [
    "policy, Q, rewards_history = train_agent(policy=get_random_policy(), Q=get_Q(), epsilon=.1)\n",
    "display_policy_on_board(policy)\n",
    "\n",
    "plt.plot(rewards_history)\n",
    "\n",
    "plt.title('Sum of reward for iterations')\n",
    "plt.xlabel('Iteration')\n",
    "plt.ylabel('Reward')\n",
    "\n",
    "plt.show()\n"
   ]
  },
  {
   "cell_type": "code",
   "execution_count": 363,
   "metadata": {},
   "outputs": [
    {
     "data": {
      "text/plain": [
       "{((0, 0), <Action.DOWN: 'DOWN'>): (-0.1111000000007778, 10),\n",
       " ((0, 0), <Action.RIGHT: 'RIGHT'>): (-0.1106205197040946, 159),\n",
       " ((1, 0), <Action.LEFT: 'LEFT'>): (-0.11110142144330945, 117),\n",
       " ((1, 0), <Action.RIGHT: 'RIGHT'>): (-0.10259857708595349, 657),\n",
       " ((2, 0), <Action.LEFT: 'LEFT'>): (-0.11027975267489715, 27),\n",
       " ((2, 0), <Action.RIGHT: 'RIGHT'>): (-0.020579252476204263, 631),\n",
       " ((2, 0), <Action.DOWN: 'DOWN'>): (-0.11418363916667226, 32),\n",
       " ((0, 1), <Action.DOWN: 'DOWN'>): (-0.1111109865593494, 82),\n",
       " ((0, 1), <Action.UP: 'UP'>): (-0.11094824010780457, 41),\n",
       " ((2, 1), <Action.UP: 'UP'>): (-0.3771037002693602, 33),\n",
       " ((2, 1), <Action.DOWN: 'DOWN'>): (-0.11605475427439854, 694),\n",
       " ((2, 1), <Action.RIGHT: 'RIGHT'>): (-1.0, 32),\n",
       " ((0, 2), <Action.UP: 'UP'>): (-0.11110554531998654, 100),\n",
       " ((0, 2), <Action.RIGHT: 'RIGHT'>): (-0.11111208333333308, 8),\n",
       " ((1, 2), <Action.RIGHT: 'RIGHT'>): (-0.11210974834567893, 9),\n",
       " ((1, 2), <Action.LEFT: 'LEFT'>): (-0.11110962961480593, 15),\n",
       " ((2, 2), <Action.RIGHT: 'RIGHT'>): (-0.13333333333333336, 4),\n",
       " ((2, 2), <Action.LEFT: 'LEFT'>): (-0.11125907408888702, 6),\n",
       " ((2, 2), <Action.UP: 'UP'>): (-0.11120991953157944, 19),\n",
       " ((3, 2), <Action.LEFT: 'LEFT'>): (-0.111119999999889, 10),\n",
       " ((3, 2), <Action.UP: 'UP'>): (-1.0, 7)}"
      ]
     },
     "metadata": {},
     "output_type": "display_data"
    }
   ],
   "source": [
    "display(Q)"
   ]
  }
 ],
 "metadata": {
  "kernelspec": {
   "display_name": "Python 3",
   "language": "python",
   "name": "python3"
  },
  "language_info": {
   "codemirror_mode": {
    "name": "ipython",
    "version": 3
   },
   "file_extension": ".py",
   "mimetype": "text/x-python",
   "name": "python",
   "nbconvert_exporter": "python",
   "pygments_lexer": "ipython3",
   "version": "3.10.11"
  }
 },
 "nbformat": 4,
 "nbformat_minor": 2
}
